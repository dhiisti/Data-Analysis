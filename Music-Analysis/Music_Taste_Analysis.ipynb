{
  "nbformat": 4,
  "nbformat_minor": 0,
  "metadata": {
    "colab": {
      "name": "Music Taste Analysis",
      "provenance": [],
      "collapsed_sections": []
    },
    "kernelspec": {
      "name": "python3",
      "display_name": "Python 3"
    },
    "language_info": {
      "name": "python"
    }
  },
  "cells": [
    {
      "cell_type": "code",
      "metadata": {
        "colab": {
          "base_uri": "https://localhost:8080/"
        },
        "id": "zkLmGxmB5bso",
        "outputId": "2e357e33-c25f-4153-a36f-9426e01ce770"
      },
      "source": [
        "!pip install spotipy"
      ],
      "execution_count": 2,
      "outputs": [
        {
          "output_type": "stream",
          "text": [
            "Collecting spotipy\n",
            "  Downloading https://files.pythonhosted.org/packages/02/9b/25b96cd2f1e2174ac787099b386e2afd427bf78dfb11e1c5857affc3409d/spotipy-2.18.0-py3-none-any.whl\n",
            "Collecting urllib3>=1.26.0\n",
            "\u001b[?25l  Downloading https://files.pythonhosted.org/packages/09/c6/d3e3abe5b4f4f16cf0dfc9240ab7ce10c2baa0e268989a4e3ec19e90c84e/urllib3-1.26.4-py2.py3-none-any.whl (153kB)\n",
            "\u001b[K     |████████████████████████████████| 153kB 6.4MB/s \n",
            "\u001b[?25hCollecting requests>=2.25.0\n",
            "\u001b[?25l  Downloading https://files.pythonhosted.org/packages/29/c1/24814557f1d22c56d50280771a17307e6bf87b70727d975fd6b2ce6b014a/requests-2.25.1-py2.py3-none-any.whl (61kB)\n",
            "\u001b[K     |████████████████████████████████| 61kB 4.0MB/s \n",
            "\u001b[?25hRequirement already satisfied: six>=1.15.0 in /usr/local/lib/python3.7/dist-packages (from spotipy) (1.15.0)\n",
            "Requirement already satisfied: certifi>=2017.4.17 in /usr/local/lib/python3.7/dist-packages (from requests>=2.25.0->spotipy) (2020.12.5)\n",
            "Requirement already satisfied: chardet<5,>=3.0.2 in /usr/local/lib/python3.7/dist-packages (from requests>=2.25.0->spotipy) (3.0.4)\n",
            "Requirement already satisfied: idna<3,>=2.5 in /usr/local/lib/python3.7/dist-packages (from requests>=2.25.0->spotipy) (2.10)\n",
            "\u001b[31mERROR: google-colab 1.0.0 has requirement requests~=2.23.0, but you'll have requests 2.25.1 which is incompatible.\u001b[0m\n",
            "\u001b[31mERROR: datascience 0.10.6 has requirement folium==0.2.1, but you'll have folium 0.8.3 which is incompatible.\u001b[0m\n",
            "Installing collected packages: urllib3, requests, spotipy\n",
            "  Found existing installation: urllib3 1.24.3\n",
            "    Uninstalling urllib3-1.24.3:\n",
            "      Successfully uninstalled urllib3-1.24.3\n",
            "  Found existing installation: requests 2.23.0\n",
            "    Uninstalling requests-2.23.0:\n",
            "      Successfully uninstalled requests-2.23.0\n",
            "Successfully installed requests-2.25.1 spotipy-2.18.0 urllib3-1.26.4\n"
          ],
          "name": "stdout"
        }
      ]
    },
    {
      "cell_type": "markdown",
      "metadata": {
        "id": "RYh1mZzv1DQB"
      },
      "source": [
        "# **Authorizing Client Credential**"
      ]
    },
    {
      "cell_type": "code",
      "metadata": {
        "id": "g5Jm5QV-Fopq"
      },
      "source": [
        "import spotipy\n",
        "from spotipy.oauth2 import SpotifyClientCredentials"
      ],
      "execution_count": 4,
      "outputs": []
    },
    {
      "cell_type": "code",
      "metadata": {
        "id": "5K9BxZ9251ZK"
      },
      "source": [
        "client_id = '89fef1b3332b42e58a2bf14366523bc6'\n",
        "client_secret = '481f2262c51c4e1b95f69925aa29c899'"
      ],
      "execution_count": 5,
      "outputs": []
    },
    {
      "cell_type": "code",
      "metadata": {
        "id": "nqUzunvlFa-_"
      },
      "source": [
        "client_credentials_manager = SpotifyClientCredentials(client_id, client_secret)\n",
        "sp = spotipy.Spotify(client_credentials_manager=client_credentials_manager)"
      ],
      "execution_count": 6,
      "outputs": []
    },
    {
      "cell_type": "markdown",
      "metadata": {
        "id": "0A2u4x741IlF"
      },
      "source": [
        "**Take my \"Your Top Songs 2020\" Playlist**"
      ]
    },
    {
      "cell_type": "code",
      "metadata": {
        "id": "itfRSc3OFriI"
      },
      "source": [
        "# take id from playlist\n",
        "playlist_id = 'spotify:playlist:37i9dQZF1EM0sAXSXDg2Jk'\n",
        "results = sp.playlist(playlist_id)"
      ],
      "execution_count": 7,
      "outputs": []
    },
    {
      "cell_type": "code",
      "metadata": {
        "colab": {
          "base_uri": "https://localhost:8080/",
          "height": 35
        },
        "id": "5XRFsU2H44DD",
        "outputId": "6e3b4586-da71-40c3-c3af-656ae89e279e"
      },
      "source": [
        "# example data\n",
        "results['tracks']['items'][0]['track']['album']['name']"
      ],
      "execution_count": 8,
      "outputs": [
        {
          "output_type": "execute_result",
          "data": {
            "application/vnd.google.colaboratory.intrinsic+json": {
              "type": "string"
            },
            "text/plain": [
              "'Pieces of Us (feat. King Princess)'"
            ]
          },
          "metadata": {
            "tags": []
          },
          "execution_count": 8
        }
      ]
    },
    {
      "cell_type": "markdown",
      "metadata": {
        "id": "BT1oCtbKEjHJ"
      },
      "source": [
        "The results can be exported as json file. After that we can see what is the stucture of the file. We need to understand the structure of the data so that we can make csv file out of it."
      ]
    },
    {
      "cell_type": "code",
      "metadata": {
        "id": "in-wvzILNS_v"
      },
      "source": [
        "import json\n",
        "\n",
        "with open(\"data.json\", \"w\") as outfile:\n",
        "    json.dump(results, outfile)"
      ],
      "execution_count": 10,
      "outputs": []
    },
    {
      "cell_type": "markdown",
      "metadata": {
        "id": "ZuA3Nj0f1SJH"
      },
      "source": [
        "# **Convert into Dataframe**"
      ]
    },
    {
      "cell_type": "code",
      "metadata": {
        "id": "JmT3jyfm3KJ7"
      },
      "source": [
        "ids  = []\n",
        "\n",
        "# get track's id\n",
        "for item in results['tracks']['items']:\n",
        "  track = item['track']['id']\n",
        "  ids.append(track)\n",
        "\n",
        "song_meta = {\n",
        "    'id': [],\n",
        "    'album': [],\n",
        "    'name': [],\n",
        "    'artist': [],\n",
        "    'explicit': [],\n",
        "    'popularity': []\n",
        "}\n",
        "\n",
        "for song in ids:\n",
        "  # get single track given track's ID\n",
        "  track = sp.track(song)\n",
        "\n",
        "  # song id\n",
        "  song_meta['id'].append(song)\n",
        "\n",
        "  # album name\n",
        "  album = track['album']['name']\n",
        "  song_meta['album'] += [album]\n",
        "\n",
        "  # song name\n",
        "  song =  track['name']\n",
        "  song_meta['name'] += [song]\n",
        "\n",
        "  # artist name\n",
        "  artist = ', '.join([singer['name'] for singer in track['artists']])\n",
        "  song_meta['artist'] += [artist]\n",
        "\n",
        "  # explicit\n",
        "  explicit = track['explicit']\n",
        "  song_meta['explicit'].append(explicit)\n",
        "\n",
        "  # popularity\n",
        "  popularity = track['popularity']\n",
        "  song_meta['popularity'].append(popularity)"
      ],
      "execution_count": 11,
      "outputs": []
    },
    {
      "cell_type": "code",
      "metadata": {
        "id": "DEzQPHzqDY8X"
      },
      "source": [
        "import pandas as pd\n",
        "import numpy as np\n",
        "\n",
        "df = pd.DataFrame.from_dict(song_meta)"
      ],
      "execution_count": 12,
      "outputs": []
    },
    {
      "cell_type": "code",
      "metadata": {
        "colab": {
          "base_uri": "https://localhost:8080/",
          "height": 394
        },
        "id": "FIAhSJlPD3XN",
        "outputId": "9c74ca44-b84f-4bf8-95a2-7081c9077360"
      },
      "source": [
        "df.head()"
      ],
      "execution_count": 13,
      "outputs": [
        {
          "output_type": "execute_result",
          "data": {
            "text/html": [
              "<div>\n",
              "<style scoped>\n",
              "    .dataframe tbody tr th:only-of-type {\n",
              "        vertical-align: middle;\n",
              "    }\n",
              "\n",
              "    .dataframe tbody tr th {\n",
              "        vertical-align: top;\n",
              "    }\n",
              "\n",
              "    .dataframe thead th {\n",
              "        text-align: right;\n",
              "    }\n",
              "</style>\n",
              "<table border=\"1\" class=\"dataframe\">\n",
              "  <thead>\n",
              "    <tr style=\"text-align: right;\">\n",
              "      <th></th>\n",
              "      <th>id</th>\n",
              "      <th>album</th>\n",
              "      <th>name</th>\n",
              "      <th>artist</th>\n",
              "      <th>explicit</th>\n",
              "      <th>popularity</th>\n",
              "    </tr>\n",
              "  </thead>\n",
              "  <tbody>\n",
              "    <tr>\n",
              "      <th>0</th>\n",
              "      <td>0ac6wpfha90oah72SCNTPV</td>\n",
              "      <td>Pieces of Us (feat. King Princess)</td>\n",
              "      <td>Pieces of Us (feat. King Princess)</td>\n",
              "      <td>Mark Ronson, King Princess</td>\n",
              "      <td>False</td>\n",
              "      <td>39</td>\n",
              "    </tr>\n",
              "    <tr>\n",
              "      <th>1</th>\n",
              "      <td>3cl6BsTDeeGRbgug5TXrvg</td>\n",
              "      <td>Shoot Me : Youth Part 1</td>\n",
              "      <td>Shoot Me</td>\n",
              "      <td>DAY6</td>\n",
              "      <td>False</td>\n",
              "      <td>66</td>\n",
              "    </tr>\n",
              "    <tr>\n",
              "      <th>2</th>\n",
              "      <td>6PUYqQtGWVAovZrLC9BIqt</td>\n",
              "      <td>Youngblood (Deluxe)</td>\n",
              "      <td>Babylon</td>\n",
              "      <td>5 Seconds of Summer</td>\n",
              "      <td>False</td>\n",
              "      <td>61</td>\n",
              "    </tr>\n",
              "    <tr>\n",
              "      <th>3</th>\n",
              "      <td>4aceMabp5rzZYoKKXsUffr</td>\n",
              "      <td>MOONRISE</td>\n",
              "      <td>누군가 필요해 I Need Somebody</td>\n",
              "      <td>DAY6</td>\n",
              "      <td>False</td>\n",
              "      <td>62</td>\n",
              "    </tr>\n",
              "    <tr>\n",
              "      <th>4</th>\n",
              "      <td>1YlulsUKDduOmC7WxvXYPW</td>\n",
              "      <td>Free Time</td>\n",
              "      <td>Painkiller</td>\n",
              "      <td>Ruel</td>\n",
              "      <td>False</td>\n",
              "      <td>75</td>\n",
              "    </tr>\n",
              "  </tbody>\n",
              "</table>\n",
              "</div>"
            ],
            "text/plain": [
              "                       id  ... popularity\n",
              "0  0ac6wpfha90oah72SCNTPV  ...         39\n",
              "1  3cl6BsTDeeGRbgug5TXrvg  ...         66\n",
              "2  6PUYqQtGWVAovZrLC9BIqt  ...         61\n",
              "3  4aceMabp5rzZYoKKXsUffr  ...         62\n",
              "4  1YlulsUKDduOmC7WxvXYPW  ...         75\n",
              "\n",
              "[5 rows x 6 columns]"
            ]
          },
          "metadata": {
            "tags": []
          },
          "execution_count": 13
        }
      ]
    },
    {
      "cell_type": "markdown",
      "metadata": {
        "id": "g3ld2DC6Nvor"
      },
      "source": [
        "## **Add song features using function from spotipy**"
      ]
    },
    {
      "cell_type": "code",
      "metadata": {
        "id": "-xUOqstaG_Gm"
      },
      "source": [
        "# song features\n",
        "features = sp.audio_features(song_meta['id'])\n",
        "features = pd.DataFrame.from_dict(features)"
      ],
      "execution_count": 14,
      "outputs": []
    },
    {
      "cell_type": "code",
      "metadata": {
        "colab": {
          "base_uri": "https://localhost:8080/",
          "height": 309
        },
        "id": "dXPuQo2CHloB",
        "outputId": "900953ee-611d-4ecd-fed5-17e929091f48"
      },
      "source": [
        "features.head()"
      ],
      "execution_count": 15,
      "outputs": [
        {
          "output_type": "execute_result",
          "data": {
            "text/html": [
              "<div>\n",
              "<style scoped>\n",
              "    .dataframe tbody tr th:only-of-type {\n",
              "        vertical-align: middle;\n",
              "    }\n",
              "\n",
              "    .dataframe tbody tr th {\n",
              "        vertical-align: top;\n",
              "    }\n",
              "\n",
              "    .dataframe thead th {\n",
              "        text-align: right;\n",
              "    }\n",
              "</style>\n",
              "<table border=\"1\" class=\"dataframe\">\n",
              "  <thead>\n",
              "    <tr style=\"text-align: right;\">\n",
              "      <th></th>\n",
              "      <th>danceability</th>\n",
              "      <th>energy</th>\n",
              "      <th>key</th>\n",
              "      <th>loudness</th>\n",
              "      <th>mode</th>\n",
              "      <th>speechiness</th>\n",
              "      <th>acousticness</th>\n",
              "      <th>instrumentalness</th>\n",
              "      <th>liveness</th>\n",
              "      <th>valence</th>\n",
              "      <th>tempo</th>\n",
              "      <th>type</th>\n",
              "      <th>id</th>\n",
              "      <th>uri</th>\n",
              "      <th>track_href</th>\n",
              "      <th>analysis_url</th>\n",
              "      <th>duration_ms</th>\n",
              "      <th>time_signature</th>\n",
              "    </tr>\n",
              "  </thead>\n",
              "  <tbody>\n",
              "    <tr>\n",
              "      <th>0</th>\n",
              "      <td>0.571</td>\n",
              "      <td>0.747</td>\n",
              "      <td>0</td>\n",
              "      <td>-8.708</td>\n",
              "      <td>0</td>\n",
              "      <td>0.0680</td>\n",
              "      <td>0.15300</td>\n",
              "      <td>0.000000</td>\n",
              "      <td>0.1860</td>\n",
              "      <td>0.350</td>\n",
              "      <td>101.972</td>\n",
              "      <td>audio_features</td>\n",
              "      <td>0ac6wpfha90oah72SCNTPV</td>\n",
              "      <td>spotify:track:0ac6wpfha90oah72SCNTPV</td>\n",
              "      <td>https://api.spotify.com/v1/tracks/0ac6wpfha90o...</td>\n",
              "      <td>https://api.spotify.com/v1/audio-analysis/0ac6...</td>\n",
              "      <td>206401</td>\n",
              "      <td>4</td>\n",
              "    </tr>\n",
              "    <tr>\n",
              "      <th>1</th>\n",
              "      <td>0.583</td>\n",
              "      <td>0.916</td>\n",
              "      <td>1</td>\n",
              "      <td>-1.396</td>\n",
              "      <td>1</td>\n",
              "      <td>0.1490</td>\n",
              "      <td>0.06830</td>\n",
              "      <td>0.000000</td>\n",
              "      <td>0.0489</td>\n",
              "      <td>0.732</td>\n",
              "      <td>167.933</td>\n",
              "      <td>audio_features</td>\n",
              "      <td>3cl6BsTDeeGRbgug5TXrvg</td>\n",
              "      <td>spotify:track:3cl6BsTDeeGRbgug5TXrvg</td>\n",
              "      <td>https://api.spotify.com/v1/tracks/3cl6BsTDeeGR...</td>\n",
              "      <td>https://api.spotify.com/v1/audio-analysis/3cl6...</td>\n",
              "      <td>175837</td>\n",
              "      <td>4</td>\n",
              "    </tr>\n",
              "    <tr>\n",
              "      <th>2</th>\n",
              "      <td>0.521</td>\n",
              "      <td>0.884</td>\n",
              "      <td>4</td>\n",
              "      <td>-2.931</td>\n",
              "      <td>0</td>\n",
              "      <td>0.0403</td>\n",
              "      <td>0.00155</td>\n",
              "      <td>0.000002</td>\n",
              "      <td>0.2090</td>\n",
              "      <td>0.494</td>\n",
              "      <td>92.988</td>\n",
              "      <td>audio_features</td>\n",
              "      <td>6PUYqQtGWVAovZrLC9BIqt</td>\n",
              "      <td>spotify:track:6PUYqQtGWVAovZrLC9BIqt</td>\n",
              "      <td>https://api.spotify.com/v1/tracks/6PUYqQtGWVAo...</td>\n",
              "      <td>https://api.spotify.com/v1/audio-analysis/6PUY...</td>\n",
              "      <td>213186</td>\n",
              "      <td>4</td>\n",
              "    </tr>\n",
              "    <tr>\n",
              "      <th>3</th>\n",
              "      <td>0.419</td>\n",
              "      <td>0.532</td>\n",
              "      <td>5</td>\n",
              "      <td>-4.759</td>\n",
              "      <td>0</td>\n",
              "      <td>0.0344</td>\n",
              "      <td>0.12700</td>\n",
              "      <td>0.000000</td>\n",
              "      <td>0.0785</td>\n",
              "      <td>0.337</td>\n",
              "      <td>184.197</td>\n",
              "      <td>audio_features</td>\n",
              "      <td>4aceMabp5rzZYoKKXsUffr</td>\n",
              "      <td>spotify:track:4aceMabp5rzZYoKKXsUffr</td>\n",
              "      <td>https://api.spotify.com/v1/tracks/4aceMabp5rzZ...</td>\n",
              "      <td>https://api.spotify.com/v1/audio-analysis/4ace...</td>\n",
              "      <td>218737</td>\n",
              "      <td>4</td>\n",
              "    </tr>\n",
              "    <tr>\n",
              "      <th>4</th>\n",
              "      <td>0.683</td>\n",
              "      <td>0.420</td>\n",
              "      <td>5</td>\n",
              "      <td>-6.510</td>\n",
              "      <td>1</td>\n",
              "      <td>0.0542</td>\n",
              "      <td>0.08750</td>\n",
              "      <td>0.000000</td>\n",
              "      <td>0.2250</td>\n",
              "      <td>0.469</td>\n",
              "      <td>128.621</td>\n",
              "      <td>audio_features</td>\n",
              "      <td>1YlulsUKDduOmC7WxvXYPW</td>\n",
              "      <td>spotify:track:1YlulsUKDduOmC7WxvXYPW</td>\n",
              "      <td>https://api.spotify.com/v1/tracks/1YlulsUKDduO...</td>\n",
              "      <td>https://api.spotify.com/v1/audio-analysis/1Ylu...</td>\n",
              "      <td>213507</td>\n",
              "      <td>4</td>\n",
              "    </tr>\n",
              "  </tbody>\n",
              "</table>\n",
              "</div>"
            ],
            "text/plain": [
              "   danceability  energy  ...  duration_ms  time_signature\n",
              "0         0.571   0.747  ...       206401               4\n",
              "1         0.583   0.916  ...       175837               4\n",
              "2         0.521   0.884  ...       213186               4\n",
              "3         0.419   0.532  ...       218737               4\n",
              "4         0.683   0.420  ...       213507               4\n",
              "\n",
              "[5 rows x 18 columns]"
            ]
          },
          "metadata": {
            "tags": []
          },
          "execution_count": 15
        }
      ]
    },
    {
      "cell_type": "code",
      "metadata": {
        "colab": {
          "base_uri": "https://localhost:8080/",
          "height": 411
        },
        "id": "hipQIeyMHy-J",
        "outputId": "3ac087da-dc28-440b-d6c7-cf2c85efcd4e"
      },
      "source": [
        "# merge two df\n",
        "playlist_df = df.merge(features)\n",
        "playlist_df.head()"
      ],
      "execution_count": 16,
      "outputs": [
        {
          "output_type": "execute_result",
          "data": {
            "text/html": [
              "<div>\n",
              "<style scoped>\n",
              "    .dataframe tbody tr th:only-of-type {\n",
              "        vertical-align: middle;\n",
              "    }\n",
              "\n",
              "    .dataframe tbody tr th {\n",
              "        vertical-align: top;\n",
              "    }\n",
              "\n",
              "    .dataframe thead th {\n",
              "        text-align: right;\n",
              "    }\n",
              "</style>\n",
              "<table border=\"1\" class=\"dataframe\">\n",
              "  <thead>\n",
              "    <tr style=\"text-align: right;\">\n",
              "      <th></th>\n",
              "      <th>id</th>\n",
              "      <th>album</th>\n",
              "      <th>name</th>\n",
              "      <th>artist</th>\n",
              "      <th>explicit</th>\n",
              "      <th>popularity</th>\n",
              "      <th>danceability</th>\n",
              "      <th>energy</th>\n",
              "      <th>key</th>\n",
              "      <th>loudness</th>\n",
              "      <th>mode</th>\n",
              "      <th>speechiness</th>\n",
              "      <th>acousticness</th>\n",
              "      <th>instrumentalness</th>\n",
              "      <th>liveness</th>\n",
              "      <th>valence</th>\n",
              "      <th>tempo</th>\n",
              "      <th>type</th>\n",
              "      <th>uri</th>\n",
              "      <th>track_href</th>\n",
              "      <th>analysis_url</th>\n",
              "      <th>duration_ms</th>\n",
              "      <th>time_signature</th>\n",
              "    </tr>\n",
              "  </thead>\n",
              "  <tbody>\n",
              "    <tr>\n",
              "      <th>0</th>\n",
              "      <td>0ac6wpfha90oah72SCNTPV</td>\n",
              "      <td>Pieces of Us (feat. King Princess)</td>\n",
              "      <td>Pieces of Us (feat. King Princess)</td>\n",
              "      <td>Mark Ronson, King Princess</td>\n",
              "      <td>False</td>\n",
              "      <td>39</td>\n",
              "      <td>0.571</td>\n",
              "      <td>0.747</td>\n",
              "      <td>0</td>\n",
              "      <td>-8.708</td>\n",
              "      <td>0</td>\n",
              "      <td>0.0680</td>\n",
              "      <td>0.15300</td>\n",
              "      <td>0.000000</td>\n",
              "      <td>0.1860</td>\n",
              "      <td>0.350</td>\n",
              "      <td>101.972</td>\n",
              "      <td>audio_features</td>\n",
              "      <td>spotify:track:0ac6wpfha90oah72SCNTPV</td>\n",
              "      <td>https://api.spotify.com/v1/tracks/0ac6wpfha90o...</td>\n",
              "      <td>https://api.spotify.com/v1/audio-analysis/0ac6...</td>\n",
              "      <td>206401</td>\n",
              "      <td>4</td>\n",
              "    </tr>\n",
              "    <tr>\n",
              "      <th>1</th>\n",
              "      <td>3cl6BsTDeeGRbgug5TXrvg</td>\n",
              "      <td>Shoot Me : Youth Part 1</td>\n",
              "      <td>Shoot Me</td>\n",
              "      <td>DAY6</td>\n",
              "      <td>False</td>\n",
              "      <td>66</td>\n",
              "      <td>0.583</td>\n",
              "      <td>0.916</td>\n",
              "      <td>1</td>\n",
              "      <td>-1.396</td>\n",
              "      <td>1</td>\n",
              "      <td>0.1490</td>\n",
              "      <td>0.06830</td>\n",
              "      <td>0.000000</td>\n",
              "      <td>0.0489</td>\n",
              "      <td>0.732</td>\n",
              "      <td>167.933</td>\n",
              "      <td>audio_features</td>\n",
              "      <td>spotify:track:3cl6BsTDeeGRbgug5TXrvg</td>\n",
              "      <td>https://api.spotify.com/v1/tracks/3cl6BsTDeeGR...</td>\n",
              "      <td>https://api.spotify.com/v1/audio-analysis/3cl6...</td>\n",
              "      <td>175837</td>\n",
              "      <td>4</td>\n",
              "    </tr>\n",
              "    <tr>\n",
              "      <th>2</th>\n",
              "      <td>6PUYqQtGWVAovZrLC9BIqt</td>\n",
              "      <td>Youngblood (Deluxe)</td>\n",
              "      <td>Babylon</td>\n",
              "      <td>5 Seconds of Summer</td>\n",
              "      <td>False</td>\n",
              "      <td>61</td>\n",
              "      <td>0.521</td>\n",
              "      <td>0.884</td>\n",
              "      <td>4</td>\n",
              "      <td>-2.931</td>\n",
              "      <td>0</td>\n",
              "      <td>0.0403</td>\n",
              "      <td>0.00155</td>\n",
              "      <td>0.000002</td>\n",
              "      <td>0.2090</td>\n",
              "      <td>0.494</td>\n",
              "      <td>92.988</td>\n",
              "      <td>audio_features</td>\n",
              "      <td>spotify:track:6PUYqQtGWVAovZrLC9BIqt</td>\n",
              "      <td>https://api.spotify.com/v1/tracks/6PUYqQtGWVAo...</td>\n",
              "      <td>https://api.spotify.com/v1/audio-analysis/6PUY...</td>\n",
              "      <td>213186</td>\n",
              "      <td>4</td>\n",
              "    </tr>\n",
              "    <tr>\n",
              "      <th>3</th>\n",
              "      <td>4aceMabp5rzZYoKKXsUffr</td>\n",
              "      <td>MOONRISE</td>\n",
              "      <td>누군가 필요해 I Need Somebody</td>\n",
              "      <td>DAY6</td>\n",
              "      <td>False</td>\n",
              "      <td>62</td>\n",
              "      <td>0.419</td>\n",
              "      <td>0.532</td>\n",
              "      <td>5</td>\n",
              "      <td>-4.759</td>\n",
              "      <td>0</td>\n",
              "      <td>0.0344</td>\n",
              "      <td>0.12700</td>\n",
              "      <td>0.000000</td>\n",
              "      <td>0.0785</td>\n",
              "      <td>0.337</td>\n",
              "      <td>184.197</td>\n",
              "      <td>audio_features</td>\n",
              "      <td>spotify:track:4aceMabp5rzZYoKKXsUffr</td>\n",
              "      <td>https://api.spotify.com/v1/tracks/4aceMabp5rzZ...</td>\n",
              "      <td>https://api.spotify.com/v1/audio-analysis/4ace...</td>\n",
              "      <td>218737</td>\n",
              "      <td>4</td>\n",
              "    </tr>\n",
              "    <tr>\n",
              "      <th>4</th>\n",
              "      <td>1YlulsUKDduOmC7WxvXYPW</td>\n",
              "      <td>Free Time</td>\n",
              "      <td>Painkiller</td>\n",
              "      <td>Ruel</td>\n",
              "      <td>False</td>\n",
              "      <td>75</td>\n",
              "      <td>0.683</td>\n",
              "      <td>0.420</td>\n",
              "      <td>5</td>\n",
              "      <td>-6.510</td>\n",
              "      <td>1</td>\n",
              "      <td>0.0542</td>\n",
              "      <td>0.08750</td>\n",
              "      <td>0.000000</td>\n",
              "      <td>0.2250</td>\n",
              "      <td>0.469</td>\n",
              "      <td>128.621</td>\n",
              "      <td>audio_features</td>\n",
              "      <td>spotify:track:1YlulsUKDduOmC7WxvXYPW</td>\n",
              "      <td>https://api.spotify.com/v1/tracks/1YlulsUKDduO...</td>\n",
              "      <td>https://api.spotify.com/v1/audio-analysis/1Ylu...</td>\n",
              "      <td>213507</td>\n",
              "      <td>4</td>\n",
              "    </tr>\n",
              "  </tbody>\n",
              "</table>\n",
              "</div>"
            ],
            "text/plain": [
              "                       id  ... time_signature\n",
              "0  0ac6wpfha90oah72SCNTPV  ...              4\n",
              "1  3cl6BsTDeeGRbgug5TXrvg  ...              4\n",
              "2  6PUYqQtGWVAovZrLC9BIqt  ...              4\n",
              "3  4aceMabp5rzZYoKKXsUffr  ...              4\n",
              "4  1YlulsUKDduOmC7WxvXYPW  ...              4\n",
              "\n",
              "[5 rows x 23 columns]"
            ]
          },
          "metadata": {
            "tags": []
          },
          "execution_count": 16
        }
      ]
    },
    {
      "cell_type": "markdown",
      "metadata": {
        "id": "IbUdQIgiWNJJ"
      },
      "source": [
        "## **Export CSV**"
      ]
    },
    {
      "cell_type": "code",
      "metadata": {
        "id": "tAOCr49qP8gn"
      },
      "source": [
        "# export csv\n",
        "playlist_df.to_csv ('playlist.csv', header=True)"
      ],
      "execution_count": 20,
      "outputs": []
    },
    {
      "cell_type": "markdown",
      "metadata": {
        "id": "PYQmzwfAQI5K"
      },
      "source": [
        "# **EDA**"
      ]
    },
    {
      "cell_type": "markdown",
      "metadata": {
        "id": "qSxkRQRfIsL7"
      },
      "source": [
        "**Data Preprocessing**"
      ]
    },
    {
      "cell_type": "code",
      "metadata": {
        "id": "RXfhHhvdIrkM"
      },
      "source": [
        "playlist_df['duration_ms'] /= 60000 "
      ],
      "execution_count": 21,
      "outputs": []
    },
    {
      "cell_type": "code",
      "metadata": {
        "id": "AJOivCNJKBtT"
      },
      "source": [
        "playlist_df = playlist_df.drop(['type', 'uri', 'track_href', 'analysis_url'], axis=1)"
      ],
      "execution_count": 22,
      "outputs": []
    },
    {
      "cell_type": "code",
      "metadata": {
        "colab": {
          "base_uri": "https://localhost:8080/",
          "height": 394
        },
        "id": "Tk6-WXGcKxeE",
        "outputId": "346e8c43-aa8d-42ec-bc75-dfb1dc15c0c4"
      },
      "source": [
        "playlist_df.head()"
      ],
      "execution_count": 23,
      "outputs": [
        {
          "output_type": "execute_result",
          "data": {
            "text/html": [
              "<div>\n",
              "<style scoped>\n",
              "    .dataframe tbody tr th:only-of-type {\n",
              "        vertical-align: middle;\n",
              "    }\n",
              "\n",
              "    .dataframe tbody tr th {\n",
              "        vertical-align: top;\n",
              "    }\n",
              "\n",
              "    .dataframe thead th {\n",
              "        text-align: right;\n",
              "    }\n",
              "</style>\n",
              "<table border=\"1\" class=\"dataframe\">\n",
              "  <thead>\n",
              "    <tr style=\"text-align: right;\">\n",
              "      <th></th>\n",
              "      <th>id</th>\n",
              "      <th>album</th>\n",
              "      <th>name</th>\n",
              "      <th>artist</th>\n",
              "      <th>explicit</th>\n",
              "      <th>popularity</th>\n",
              "      <th>danceability</th>\n",
              "      <th>energy</th>\n",
              "      <th>key</th>\n",
              "      <th>loudness</th>\n",
              "      <th>mode</th>\n",
              "      <th>speechiness</th>\n",
              "      <th>acousticness</th>\n",
              "      <th>instrumentalness</th>\n",
              "      <th>liveness</th>\n",
              "      <th>valence</th>\n",
              "      <th>tempo</th>\n",
              "      <th>duration_ms</th>\n",
              "      <th>time_signature</th>\n",
              "    </tr>\n",
              "  </thead>\n",
              "  <tbody>\n",
              "    <tr>\n",
              "      <th>0</th>\n",
              "      <td>0ac6wpfha90oah72SCNTPV</td>\n",
              "      <td>Pieces of Us (feat. King Princess)</td>\n",
              "      <td>Pieces of Us (feat. King Princess)</td>\n",
              "      <td>Mark Ronson, King Princess</td>\n",
              "      <td>False</td>\n",
              "      <td>39</td>\n",
              "      <td>0.571</td>\n",
              "      <td>0.747</td>\n",
              "      <td>0</td>\n",
              "      <td>-8.708</td>\n",
              "      <td>0</td>\n",
              "      <td>0.0680</td>\n",
              "      <td>0.15300</td>\n",
              "      <td>0.000000</td>\n",
              "      <td>0.1860</td>\n",
              "      <td>0.350</td>\n",
              "      <td>101.972</td>\n",
              "      <td>3.440017</td>\n",
              "      <td>4</td>\n",
              "    </tr>\n",
              "    <tr>\n",
              "      <th>1</th>\n",
              "      <td>3cl6BsTDeeGRbgug5TXrvg</td>\n",
              "      <td>Shoot Me : Youth Part 1</td>\n",
              "      <td>Shoot Me</td>\n",
              "      <td>DAY6</td>\n",
              "      <td>False</td>\n",
              "      <td>66</td>\n",
              "      <td>0.583</td>\n",
              "      <td>0.916</td>\n",
              "      <td>1</td>\n",
              "      <td>-1.396</td>\n",
              "      <td>1</td>\n",
              "      <td>0.1490</td>\n",
              "      <td>0.06830</td>\n",
              "      <td>0.000000</td>\n",
              "      <td>0.0489</td>\n",
              "      <td>0.732</td>\n",
              "      <td>167.933</td>\n",
              "      <td>2.930617</td>\n",
              "      <td>4</td>\n",
              "    </tr>\n",
              "    <tr>\n",
              "      <th>2</th>\n",
              "      <td>6PUYqQtGWVAovZrLC9BIqt</td>\n",
              "      <td>Youngblood (Deluxe)</td>\n",
              "      <td>Babylon</td>\n",
              "      <td>5 Seconds of Summer</td>\n",
              "      <td>False</td>\n",
              "      <td>61</td>\n",
              "      <td>0.521</td>\n",
              "      <td>0.884</td>\n",
              "      <td>4</td>\n",
              "      <td>-2.931</td>\n",
              "      <td>0</td>\n",
              "      <td>0.0403</td>\n",
              "      <td>0.00155</td>\n",
              "      <td>0.000002</td>\n",
              "      <td>0.2090</td>\n",
              "      <td>0.494</td>\n",
              "      <td>92.988</td>\n",
              "      <td>3.553100</td>\n",
              "      <td>4</td>\n",
              "    </tr>\n",
              "    <tr>\n",
              "      <th>3</th>\n",
              "      <td>4aceMabp5rzZYoKKXsUffr</td>\n",
              "      <td>MOONRISE</td>\n",
              "      <td>누군가 필요해 I Need Somebody</td>\n",
              "      <td>DAY6</td>\n",
              "      <td>False</td>\n",
              "      <td>62</td>\n",
              "      <td>0.419</td>\n",
              "      <td>0.532</td>\n",
              "      <td>5</td>\n",
              "      <td>-4.759</td>\n",
              "      <td>0</td>\n",
              "      <td>0.0344</td>\n",
              "      <td>0.12700</td>\n",
              "      <td>0.000000</td>\n",
              "      <td>0.0785</td>\n",
              "      <td>0.337</td>\n",
              "      <td>184.197</td>\n",
              "      <td>3.645617</td>\n",
              "      <td>4</td>\n",
              "    </tr>\n",
              "    <tr>\n",
              "      <th>4</th>\n",
              "      <td>1YlulsUKDduOmC7WxvXYPW</td>\n",
              "      <td>Free Time</td>\n",
              "      <td>Painkiller</td>\n",
              "      <td>Ruel</td>\n",
              "      <td>False</td>\n",
              "      <td>75</td>\n",
              "      <td>0.683</td>\n",
              "      <td>0.420</td>\n",
              "      <td>5</td>\n",
              "      <td>-6.510</td>\n",
              "      <td>1</td>\n",
              "      <td>0.0542</td>\n",
              "      <td>0.08750</td>\n",
              "      <td>0.000000</td>\n",
              "      <td>0.2250</td>\n",
              "      <td>0.469</td>\n",
              "      <td>128.621</td>\n",
              "      <td>3.558450</td>\n",
              "      <td>4</td>\n",
              "    </tr>\n",
              "  </tbody>\n",
              "</table>\n",
              "</div>"
            ],
            "text/plain": [
              "                       id  ... time_signature\n",
              "0  0ac6wpfha90oah72SCNTPV  ...              4\n",
              "1  3cl6BsTDeeGRbgug5TXrvg  ...              4\n",
              "2  6PUYqQtGWVAovZrLC9BIqt  ...              4\n",
              "3  4aceMabp5rzZYoKKXsUffr  ...              4\n",
              "4  1YlulsUKDduOmC7WxvXYPW  ...              4\n",
              "\n",
              "[5 rows x 19 columns]"
            ]
          },
          "metadata": {
            "tags": []
          },
          "execution_count": 23
        }
      ]
    },
    {
      "cell_type": "code",
      "metadata": {
        "colab": {
          "base_uri": "https://localhost:8080/"
        },
        "id": "3CgjvQ6II8_Z",
        "outputId": "1014c177-4738-475b-f228-24b1e81d0c4f"
      },
      "source": [
        "playlist_df.shape"
      ],
      "execution_count": 24,
      "outputs": [
        {
          "output_type": "execute_result",
          "data": {
            "text/plain": [
              "(100, 19)"
            ]
          },
          "metadata": {
            "tags": []
          },
          "execution_count": 24
        }
      ]
    },
    {
      "cell_type": "code",
      "metadata": {
        "colab": {
          "base_uri": "https://localhost:8080/",
          "height": 317
        },
        "id": "FO2UUBQXJA4w",
        "outputId": "175c9fe1-b436-4fa3-b4ef-684f936ddd8f"
      },
      "source": [
        "playlist_df.describe()"
      ],
      "execution_count": 25,
      "outputs": [
        {
          "output_type": "execute_result",
          "data": {
            "text/html": [
              "<div>\n",
              "<style scoped>\n",
              "    .dataframe tbody tr th:only-of-type {\n",
              "        vertical-align: middle;\n",
              "    }\n",
              "\n",
              "    .dataframe tbody tr th {\n",
              "        vertical-align: top;\n",
              "    }\n",
              "\n",
              "    .dataframe thead th {\n",
              "        text-align: right;\n",
              "    }\n",
              "</style>\n",
              "<table border=\"1\" class=\"dataframe\">\n",
              "  <thead>\n",
              "    <tr style=\"text-align: right;\">\n",
              "      <th></th>\n",
              "      <th>popularity</th>\n",
              "      <th>danceability</th>\n",
              "      <th>energy</th>\n",
              "      <th>key</th>\n",
              "      <th>loudness</th>\n",
              "      <th>mode</th>\n",
              "      <th>speechiness</th>\n",
              "      <th>acousticness</th>\n",
              "      <th>instrumentalness</th>\n",
              "      <th>liveness</th>\n",
              "      <th>valence</th>\n",
              "      <th>tempo</th>\n",
              "      <th>duration_ms</th>\n",
              "      <th>time_signature</th>\n",
              "    </tr>\n",
              "  </thead>\n",
              "  <tbody>\n",
              "    <tr>\n",
              "      <th>count</th>\n",
              "      <td>100.000000</td>\n",
              "      <td>100.000000</td>\n",
              "      <td>100.000000</td>\n",
              "      <td>100.000000</td>\n",
              "      <td>100.000000</td>\n",
              "      <td>100.000000</td>\n",
              "      <td>100.000000</td>\n",
              "      <td>100.000000</td>\n",
              "      <td>100.000000</td>\n",
              "      <td>100.000000</td>\n",
              "      <td>100.00000</td>\n",
              "      <td>100.000000</td>\n",
              "      <td>100.000000</td>\n",
              "      <td>100.00000</td>\n",
              "    </tr>\n",
              "    <tr>\n",
              "      <th>mean</th>\n",
              "      <td>60.640000</td>\n",
              "      <td>0.623230</td>\n",
              "      <td>0.686760</td>\n",
              "      <td>5.530000</td>\n",
              "      <td>-5.517540</td>\n",
              "      <td>0.460000</td>\n",
              "      <td>0.077901</td>\n",
              "      <td>0.155486</td>\n",
              "      <td>0.022995</td>\n",
              "      <td>0.196531</td>\n",
              "      <td>0.50123</td>\n",
              "      <td>124.222180</td>\n",
              "      <td>3.445558</td>\n",
              "      <td>3.95000</td>\n",
              "    </tr>\n",
              "    <tr>\n",
              "      <th>std</th>\n",
              "      <td>15.722672</td>\n",
              "      <td>0.132309</td>\n",
              "      <td>0.188587</td>\n",
              "      <td>3.611024</td>\n",
              "      <td>2.929293</td>\n",
              "      <td>0.500908</td>\n",
              "      <td>0.067483</td>\n",
              "      <td>0.194878</td>\n",
              "      <td>0.128259</td>\n",
              "      <td>0.152936</td>\n",
              "      <td>0.19839</td>\n",
              "      <td>30.084012</td>\n",
              "      <td>0.506738</td>\n",
              "      <td>0.35887</td>\n",
              "    </tr>\n",
              "    <tr>\n",
              "      <th>min</th>\n",
              "      <td>0.000000</td>\n",
              "      <td>0.288000</td>\n",
              "      <td>0.163000</td>\n",
              "      <td>0.000000</td>\n",
              "      <td>-19.117000</td>\n",
              "      <td>0.000000</td>\n",
              "      <td>0.027600</td>\n",
              "      <td>0.000300</td>\n",
              "      <td>0.000000</td>\n",
              "      <td>0.033500</td>\n",
              "      <td>0.11400</td>\n",
              "      <td>70.956000</td>\n",
              "      <td>2.148600</td>\n",
              "      <td>1.00000</td>\n",
              "    </tr>\n",
              "    <tr>\n",
              "      <th>25%</th>\n",
              "      <td>51.750000</td>\n",
              "      <td>0.559250</td>\n",
              "      <td>0.558000</td>\n",
              "      <td>2.000000</td>\n",
              "      <td>-6.858250</td>\n",
              "      <td>0.000000</td>\n",
              "      <td>0.036675</td>\n",
              "      <td>0.013625</td>\n",
              "      <td>0.000000</td>\n",
              "      <td>0.092400</td>\n",
              "      <td>0.34750</td>\n",
              "      <td>99.997500</td>\n",
              "      <td>3.162221</td>\n",
              "      <td>4.00000</td>\n",
              "    </tr>\n",
              "    <tr>\n",
              "      <th>50%</th>\n",
              "      <td>63.000000</td>\n",
              "      <td>0.639500</td>\n",
              "      <td>0.724000</td>\n",
              "      <td>6.000000</td>\n",
              "      <td>-4.743500</td>\n",
              "      <td>0.000000</td>\n",
              "      <td>0.054300</td>\n",
              "      <td>0.093650</td>\n",
              "      <td>0.000000</td>\n",
              "      <td>0.127000</td>\n",
              "      <td>0.50950</td>\n",
              "      <td>120.018000</td>\n",
              "      <td>3.396783</td>\n",
              "      <td>4.00000</td>\n",
              "    </tr>\n",
              "    <tr>\n",
              "      <th>75%</th>\n",
              "      <td>70.250000</td>\n",
              "      <td>0.705500</td>\n",
              "      <td>0.842000</td>\n",
              "      <td>9.000000</td>\n",
              "      <td>-3.686500</td>\n",
              "      <td>1.000000</td>\n",
              "      <td>0.093125</td>\n",
              "      <td>0.222000</td>\n",
              "      <td>0.000046</td>\n",
              "      <td>0.261500</td>\n",
              "      <td>0.64275</td>\n",
              "      <td>146.229000</td>\n",
              "      <td>3.691925</td>\n",
              "      <td>4.00000</td>\n",
              "    </tr>\n",
              "    <tr>\n",
              "      <th>max</th>\n",
              "      <td>87.000000</td>\n",
              "      <td>0.914000</td>\n",
              "      <td>0.978000</td>\n",
              "      <td>11.000000</td>\n",
              "      <td>-0.995000</td>\n",
              "      <td>1.000000</td>\n",
              "      <td>0.445000</td>\n",
              "      <td>0.902000</td>\n",
              "      <td>0.910000</td>\n",
              "      <td>0.691000</td>\n",
              "      <td>0.92300</td>\n",
              "      <td>199.692000</td>\n",
              "      <td>4.983550</td>\n",
              "      <td>5.00000</td>\n",
              "    </tr>\n",
              "  </tbody>\n",
              "</table>\n",
              "</div>"
            ],
            "text/plain": [
              "       popularity  danceability  ...  duration_ms  time_signature\n",
              "count  100.000000    100.000000  ...   100.000000       100.00000\n",
              "mean    60.640000      0.623230  ...     3.445558         3.95000\n",
              "std     15.722672      0.132309  ...     0.506738         0.35887\n",
              "min      0.000000      0.288000  ...     2.148600         1.00000\n",
              "25%     51.750000      0.559250  ...     3.162221         4.00000\n",
              "50%     63.000000      0.639500  ...     3.396783         4.00000\n",
              "75%     70.250000      0.705500  ...     3.691925         4.00000\n",
              "max     87.000000      0.914000  ...     4.983550         5.00000\n",
              "\n",
              "[8 rows x 14 columns]"
            ]
          },
          "metadata": {
            "tags": []
          },
          "execution_count": 25
        }
      ]
    },
    {
      "cell_type": "code",
      "metadata": {
        "colab": {
          "base_uri": "https://localhost:8080/",
          "height": 584
        },
        "id": "ZFc56cHCSvKn",
        "outputId": "8f14d20f-d8f7-40e2-adeb-256ef1148532"
      },
      "source": [
        "import numpy as np\n",
        "import seaborn as sns\n",
        "import matplotlib.pylab as plt\n",
        "\n",
        "# find the correlation among\n",
        "# the columns using pearson method\n",
        "cor = playlist_df.corr(method ='pearson')\n",
        "\n",
        "fig = plt.figure(figsize=(12,8))\n",
        "ax = sns.heatmap(cor, linewidth=0.5)\n",
        "plt.show()"
      ],
      "execution_count": 28,
      "outputs": [
        {
          "output_type": "display_data",
          "data": {
            "image/png": "[encoded data removed]",
            "text/plain": [
              "<Figure size 864x576 with 2 Axes>"
            ]
          },
          "metadata": {
            "tags": [],
            "needs_background": "light"
          }
        }
      ]
    },
    {
      "cell_type": "markdown",
      "metadata": {
        "id": "Kzl6JMoATeK2"
      },
      "source": [
        "from heatmap we can see several data that have low correlation between them such as energy with acousticness, loudness with acousticness"
      ]
    },
    {
      "cell_type": "markdown",
      "metadata": {
        "id": "NnGV75MjWHbW"
      },
      "source": [
        "# **Data Analysis**"
      ]
    },
    {
      "cell_type": "markdown",
      "metadata": {
        "id": "2MKCOvf_v5xp"
      },
      "source": [
        "**My Top 5 Artist in 2020**"
      ]
    },
    {
      "cell_type": "code",
      "metadata": {
        "colab": {
          "base_uri": "https://localhost:8080/",
          "height": 404
        },
        "id": "KTHcZKy9v7Ow",
        "outputId": "90cf6da1-0bf3-4d17-fb2f-8b8a7c164130"
      },
      "source": [
        "artist = df.artist.value_counts()[:5]\n",
        "artist.plot(kind = 'bar', color = '#1DB954')\n",
        "\n",
        "plt.xlabel('Artist', fontsize = 14)\n",
        "plt.ylabel('Number of Song', fontsize = 14)\n",
        "plt.title(\"Top 5 Artist in 2020\", size=20)\n",
        "plt.show()"
      ],
      "execution_count": 47,
      "outputs": [
        {
          "output_type": "display_data",
          "data": {
            "image/png": "[encoded data removed]",
            "text/plain": [
              "<Figure size 432x288 with 1 Axes>"
            ]
          },
          "metadata": {
            "tags": [],
            "needs_background": "light"
          }
        }
      ]
    },
    {
      "cell_type": "markdown",
      "metadata": {
        "id": "4rqRKuHreAPs"
      },
      "source": [
        "**Expliciticy**"
      ]
    },
    {
      "cell_type": "markdown",
      "metadata": {
        "id": "MyRhkMnHYXeV"
      },
      "source": [
        "my top 5 artist in 2020 is mostly boyband and band. Day6 and EXO are korean music boy group, 5SOS and Arctic Monkeys are band, and Ruel is a solo artist. "
      ]
    },
    {
      "cell_type": "code",
      "metadata": {
        "colab": {
          "base_uri": "https://localhost:8080/",
          "height": 269
        },
        "id": "uCYYJfS5d_Xu",
        "outputId": "4d39313a-d948-4f61-a107-3b6854a4eb25"
      },
      "source": [
        "label = ['Not Explicit', 'Explicit']\n",
        "explicit = df['explicit'].value_counts().tolist()\n",
        "color = ['#1DB954', '#9D8DF1']\n",
        "fig1, ax1 = plt.subplots()\n",
        "explode = (0, 0.1) \n",
        "\n",
        "ax1.pie(explicit, explode=explode, labels=label, autopct='%1.1f%%',\n",
        "        shadow=True, startangle=90, colors=color)\n",
        "plt.title(\"Number of Explicit Song\", size=20)\n",
        "ax1.axis('equal')  # Equal aspect ratio ensures that pie is drawn as a circle.\n",
        "\n",
        "plt.show()"
      ],
      "execution_count": 59,
      "outputs": [
        {
          "output_type": "display_data",
          "data": {
            "image/png": "[encoded data removed]",
            "text/plain": [
              "<Figure size 432x288 with 1 Axes>"
            ]
          },
          "metadata": {
            "tags": []
          }
        }
      ]
    },
    {
      "cell_type": "markdown",
      "metadata": {
        "id": "xRcnNtfafqT9"
      },
      "source": [
        "fyuhhh..."
      ]
    },
    {
      "cell_type": "markdown",
      "metadata": {
        "id": "1nckIaZ02rCB"
      },
      "source": [
        "**Mean Values from Song Features**"
      ]
    },
    {
      "cell_type": "code",
      "metadata": {
        "id": "q-Mxg00wQaFF"
      },
      "source": [
        "song_features = playlist_df[['danceability', 'energy', 'loudness', 'speechiness', \n",
        "                             'acousticness', 'instrumentalness', 'liveness', 'valence',\n",
        "                             'tempo']]"
      ],
      "execution_count": 31,
      "outputs": []
    },
    {
      "cell_type": "code",
      "metadata": {
        "colab": {
          "base_uri": "https://localhost:8080/"
        },
        "id": "A92VCqAlSPTA",
        "outputId": "39bba0a9-1549-4880-b678-cf3d8400ef35"
      },
      "source": [
        "from sklearn.preprocessing import MinMaxScaler\n",
        "\n",
        "# normalization\n",
        "min_max_scaler = MinMaxScaler()\n",
        "song_features.loc[:] = min_max_scaler.fit_transform(song_features.loc[:])"
      ],
      "execution_count": 32,
      "outputs": [
        {
          "output_type": "stream",
          "text": [
            "/usr/local/lib/python3.7/dist-packages/pandas/core/indexing.py:670: SettingWithCopyWarning: \n",
            "A value is trying to be set on a copy of a slice from a DataFrame\n",
            "\n",
            "See the caveats in the documentation: https://pandas.pydata.org/pandas-docs/stable/user_guide/indexing.html#returning-a-view-versus-a-copy\n",
            "  iloc._setitem_with_indexer(indexer, value)\n",
            "/usr/local/lib/python3.7/dist-packages/ipykernel_launcher.py:4: SettingWithCopyWarning: \n",
            "A value is trying to be set on a copy of a slice from a DataFrame\n",
            "\n",
            "See the caveats in the documentation: https://pandas.pydata.org/pandas-docs/stable/user_guide/indexing.html#returning-a-view-versus-a-copy\n",
            "  after removing the cwd from sys.path.\n"
          ],
          "name": "stderr"
        }
      ]
    },
    {
      "cell_type": "code",
      "metadata": {
        "colab": {
          "base_uri": "https://localhost:8080/",
          "height": 527
        },
        "id": "CgYl7tBdSWhb",
        "outputId": "f5ff3166-869a-4b99-a214-271fe063eeca"
      },
      "source": [
        "import math \n",
        "\n",
        "# plot size\n",
        "fig = plt.figure(figsize=(12,8))\n",
        "\n",
        "# convert column names into a list\n",
        "categories = song_features.columns.to_list()\n",
        "# number of categories\n",
        "N = len(categories)\n",
        "\n",
        "# create a list with the average of all features\n",
        "value = song_features.mean().to_list()\n",
        "\n",
        "# close the circle\n",
        "# and append the start value to the end.\n",
        "value.append(value[0])\n",
        "\n",
        "# calculate angle for each category\n",
        "angles = [n/float(N)*2*math.pi for n in range(N)]\n",
        "angles.append(angles[0])\n",
        "\n",
        "# plot\n",
        "plt.polar(angles, value,  'o-', color=\"#1DB954\")\n",
        "plt.fill(angles, value, alpha=0.3, facecolor='#1DB954')\n",
        "\n",
        "plt.title('Top 2020 Songs Audio Features', size=20)\n",
        "\n",
        "plt.xticks(angles[:-1],categories, size=15)\n",
        "plt.yticks(color='grey',size=15)\n",
        "plt.show()"
      ],
      "execution_count": 45,
      "outputs": [
        {
          "output_type": "display_data",
          "data": {
            "image/png": "[encoded data removed]",
            "text/plain": [
              "<Figure size 864x576 with 1 Axes>"
            ]
          },
          "metadata": {
            "tags": []
          }
        }
      ]
    },
    {
      "cell_type": "code",
      "metadata": {
        "colab": {
          "base_uri": "https://localhost:8080/",
          "height": 398
        },
        "id": "0VreTy2mXRCD",
        "outputId": "59adcb06-691f-4444-829e-355124e9ba7f"
      },
      "source": [
        "song_features.mean().sort_values(ascending=False).plot(kind = 'bar', color='#1DB954')\n",
        "plt.xlabel('Features', fontsize = 14)\n",
        "plt.ylabel('Mean', fontsize = 14)\n",
        "plt.title(\"Mean of My Audio Features\", size=20)"
      ],
      "execution_count": 48,
      "outputs": [
        {
          "output_type": "execute_result",
          "data": {
            "text/plain": [
              "Text(0.5, 1.0, 'Mean of My Audio Features')"
            ]
          },
          "metadata": {
            "tags": []
          },
          "execution_count": 48
        },
        {
          "output_type": "display_data",
          "data": {
            "image/png": "[encoded data removed]",
            "text/plain": [
              "<Figure size 432x288 with 1 Axes>"
            ]
          },
          "metadata": {
            "tags": [],
            "needs_background": "light"
          }
        }
      ]
    },
    {
      "cell_type": "markdown",
      "metadata": {
        "id": "5KpzjOsF2ehN"
      },
      "source": [
        "looks like i really love loud and energetic music. It gaves me energy hahaha"
      ]
    },
    {
      "cell_type": "markdown",
      "metadata": {
        "id": "E6R7GKUKd6sO"
      },
      "source": [
        "**Valence**"
      ]
    },
    {
      "cell_type": "code",
      "metadata": {
        "colab": {
          "base_uri": "https://localhost:8080/",
          "height": 304
        },
        "id": "IJAnq---bnAO",
        "outputId": "9f2f6b47-276e-4d38-cf6d-5809dbb39273"
      },
      "source": [
        "fig, ax = plt.subplots()\n",
        "\n",
        "x = playlist_df['valence']\n",
        "y = playlist_df['energy']\n",
        "\n",
        "plt.scatter(x, y, c='#1DB954')\n",
        "plt.xlabel('Valence', fontsize = 14)\n",
        "plt.ylabel('Energy', fontsize = 14)\n",
        "plt.title(\"Valence and Energy\", size=20)\n",
        "plt.show()"
      ],
      "execution_count": 50,
      "outputs": [
        {
          "output_type": "display_data",
          "data": {
            "image/png": "[encoded data removed]",
            "text/plain": [
              "<Figure size 432x288 with 1 Axes>"
            ]
          },
          "metadata": {
            "tags": [],
            "needs_background": "light"
          }
        }
      ]
    },
    {
      "cell_type": "markdown",
      "metadata": {
        "id": "iQQbzm3yfvr3"
      },
      "source": [
        "Valence is a measure from 0.0 to 1.0 describing the musical positiveness conveyed by a track. Tracks with high valence sound more positive (e.g. happy, cheerful, euphoric), while tracks with low valence sound more negative (e.g. sad, depressed, angry). This plot shows that i listed to diverse song"
      ]
    }
  ]
}